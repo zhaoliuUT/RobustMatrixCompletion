{
 "cells": [
  {
   "cell_type": "code",
   "execution_count": 14,
   "metadata": {
    "collapsed": false
   },
   "outputs": [
    {
     "name": "stdout",
     "output_type": "stream",
     "text": [
      "(100, 100)\n",
      "(100, 100)\n"
     ]
    }
   ],
   "source": [
    "\n",
    "print M.shape\n",
    "print Omega.shape"
   ]
  },
  {
   "cell_type": "code",
   "execution_count": 26,
   "metadata": {
    "collapsed": false
   },
   "outputs": [
    {
     "data": {
      "text/plain": [
       "10000.0"
      ]
     },
     "execution_count": 26,
     "metadata": {},
     "output_type": "execute_result"
    }
   ],
   "source": [
    "1e4"
   ]
  },
  {
   "cell_type": "code",
   "execution_count": 36,
   "metadata": {
    "collapsed": true
   },
   "outputs": [],
   "source": [
    "import numpy as np\n",
    "import numpy.random as rn\n",
    "import numpy.linalg as la\n",
    "import matplotlib.pyplot as plt\n",
    "import time\n",
    "import math\n",
    "from numpy import genfromtxt\n",
    "from matplotlib import rc\n",
    "rc('text', usetex=True)"
   ]
  },
  {
   "cell_type": "code",
   "execution_count": 41,
   "metadata": {
    "collapsed": false
   },
   "outputs": [],
   "source": [
    "def proj_subgrad(X, M, Omega, t, power):\n",
    "    U,s,V = la.svd(X, full_matrices=False)\n",
    "    Z = np.dot(U,V)\n",
    "              \n",
    "    eta = math.pow(t,power) #can also use 4**(0.5)\n",
    "    X = X - eta * Z\n",
    "    X = Omega * M + (1-Omega) * X\n",
    "    return X\n",
    "def matrix_complete(M, Omega, power,T,rank_tol = 1e-4): # eta = k^power \n",
    "    np.random.seed( int(time.time()) )\n",
    "    X = np.random.randn( M.shape[0],M.shape[1] )\n",
    "    X = Omega * M + (1-Omega) * X\n",
    "    \n",
    "    error = [] #|M-X|^2_F/1e4\n",
    "    rank = []\n",
    "\n",
    "    for t in xrange(1,T+1): # note that here we let t start from 1\n",
    "        # update x\n",
    "        X = proj_subgrad(X, M, Omega, t, power)\n",
    "        # record errors\n",
    "        if (t % 1 == 0) or (t == T - 1):\n",
    "            error.append( la.norm(X - M)**2/1e4 )\n",
    "            rank.append( la.matrix_rank(X,rank_tol) )\n",
    "            assert not np.isnan(error[-1])\n",
    "\n",
    "    return X,error,rank\n",
    "    \n",
    "def main(T=int(1e4)):\n",
    "    M = genfromtxt('M.csv', delimiter=',')\n",
    "    Omega = genfromtxt('O.csv', delimiter=',')\n",
    "    # step size = 1/k\n",
    "    start = time.time()\n",
    "    X1,error1, rank1 = matrix_complete(M, Omega,-1,T)\n",
    "    end = time.time(); time1 = end - start\n",
    "    # step size = 1/sqrt(k)\n",
    "    start = time.time()\n",
    "    X2,error2, rank2 = matrix_complete(M, Omega,-0.5,T)\n",
    "    end = time.time(); time2 = end - start\n",
    "    \n",
    "    plt.clf()\n",
    "#     use semilog plot on x axis\n",
    "    plt.semilogx(error1, label = 'step size = 1/k') \n",
    "    plt.semilogx(error2, label = r'step size = $1/\\sqrt{k}$')\n",
    "    plt.title('Errors')\n",
    "    plt.legend()\n",
    "    plt.show()\n",
    "    \n",
    "    # plot beta\n",
    "    plt.clf()\n",
    "    plt.semilogx(rank1, label = 'step size = 1/k')\n",
    "    plt.semilogx(rank2, label = r'step size = $1/\\sqrt{k}$')\n",
    "    plt.title('Rank')\n",
    "    plt.legend(loc = 'lower left')\n",
    "    plt.show()\n",
    "\n",
    "if __name__ == \"__main__\":\n",
    "    main()"
   ]
  },
  {
   "cell_type": "code",
   "execution_count": 43,
   "metadata": {
    "collapsed": false
   },
   "outputs": [
    {
     "name": "stdout",
     "output_type": "stream",
     "text": [
      "67\n"
     ]
    }
   ],
   "source": [
    "Mrank = la.matrix_rank(M,1e-4)\n",
    "print Mrank"
   ]
  },
  {
   "cell_type": "code",
   "execution_count": 10,
   "metadata": {
    "collapsed": false
   },
   "outputs": [
    {
     "name": "stdout",
     "output_type": "stream",
     "text": [
      "[[-0.27282435  0.12911155 -0.038529    0.13384457  0.24617465 -0.76205858]\n",
      " [-0.2761731  -0.34960508 -0.07849029 -0.37109807 -0.13241798  0.06677674]\n",
      " [-0.16235621 -0.34562922  0.57292872 -0.25264381  0.1300755   0.26997471]\n",
      " [-0.5069768  -0.25342599 -0.26222588  0.1103702  -0.17753721  0.01398808]\n",
      " [-0.30540914  0.32840715 -0.31154477 -0.61530347  0.49044345  0.12031672]\n",
      " [-0.30771651  0.18686873  0.30541734 -0.3070656  -0.63631503 -0.31903147]\n",
      " [-0.39924206 -0.35553212  0.21483509  0.36920747  0.38994146 -0.05096793]\n",
      " [-0.35288971  0.63876265  0.37234697  0.28189467  0.03524489  0.33747542]\n",
      " [-0.30662798  0.01517268 -0.46926408  0.28230297 -0.27330622  0.33012269]] (9, 6)\n",
      "[ 15.60849652   5.68787245   5.38760649   4.01231625   1.88542414\n",
      "   1.15893645] (6,)\n",
      "[[-0.32231577 -0.46630067 -0.48409078 -0.38312705 -0.41724899 -0.35135352]\n",
      " [ 0.45362623  0.47427416  0.01783838 -0.15549976 -0.14975463 -0.72274645]\n",
      " [ 0.45520269 -0.00345373  0.17080824 -0.52707268 -0.48416981  0.50137522]\n",
      " [-0.47416303  0.00624042  0.72841075 -0.4441061   0.089098   -0.19844289]\n",
      " [ 0.15364008  0.00537259 -0.32456641 -0.57944789  0.72866652  0.06563344]\n",
      " [ 0.48444861 -0.74669135  0.31660209  0.13504737  0.17367518 -0.24315394]] (6, 6)\n"
     ]
    }
   ],
   "source": [
    "U, s, V = np.linalg.svd(a, full_matrices=False)\n",
    "print U, U.shape\n",
    "print s,s.shape\n",
    "print V,V.shape"
   ]
  },
  {
   "cell_type": "code",
   "execution_count": 44,
   "metadata": {
    "collapsed": true
   },
   "outputs": [],
   "source": [
    "U, s, V = np.linalg.svd(M, full_matrices=False)"
   ]
  },
  {
   "cell_type": "code",
   "execution_count": 49,
   "metadata": {
    "collapsed": false
   },
   "outputs": [],
   "source": [
    "plt.figure()\n",
    "plt.semilogy(s)\n",
    "plt.title('Singular values of the true matrix M')\n",
    "plt.show()"
   ]
  }
 ],
 "metadata": {
  "kernelspec": {
   "display_name": "Python [Root]",
   "language": "python",
   "name": "Python [Root]"
  },
  "language_info": {
   "codemirror_mode": {
    "name": "ipython",
    "version": 2
   },
   "file_extension": ".py",
   "mimetype": "text/x-python",
   "name": "python",
   "nbconvert_exporter": "python",
   "pygments_lexer": "ipython2",
   "version": "2.7.12"
  }
 },
 "nbformat": 4,
 "nbformat_minor": 0
}
